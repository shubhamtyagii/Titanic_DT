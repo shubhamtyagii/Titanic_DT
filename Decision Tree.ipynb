{
 "cells": [
  {
   "cell_type": "code",
   "execution_count": 207,
   "metadata": {},
   "outputs": [],
   "source": [
    "import numpy as np\n",
    "import matplotlib.pyplot as plt\n",
    "from sklearn import tree\n",
    "import pandas as pd"
   ]
  },
  {
   "cell_type": "markdown",
   "metadata": {},
   "source": [
    "# DATASET DESC:\n",
    "Variable-\tDefinition\tKey\n",
    "survival-\tSurvival\t0 = No, 1 = Yes\n",
    "pclass-\tTicket class\t1 = 1st, 2 = 2nd, 3 = 3rd\n",
    "sex-\tSex\t\n",
    "Age-\tAge in years\t\n",
    "sibsp-\t# of siblings / spouses aboard the Titanic\t\n",
    "parch-\t# of parents / children aboard the Titanic\t\n",
    "ticket-\tTicket number\t\n",
    "fare-\tPassenger fare\t\n",
    "cabin-\tCabin number\t\n",
    "embarked-\tPort of Embarkation\tC = Cherbourg, Q = Queenstown, S = Southampton\n"
   ]
  },
  {
   "cell_type": "markdown",
   "metadata": {},
   "source": [
    "# Load Data:\n",
    "load the training data, ignore the headers"
   ]
  },
  {
   "cell_type": "code",
   "execution_count": 208,
   "metadata": {},
   "outputs": [],
   "source": [
    "data= pd.read_csv('./data/train.csv',header=0).as_matrix()"
   ]
  },
  {
   "cell_type": "markdown",
   "metadata": {},
   "source": [
    "# Dictionaries:\n",
    "To convert embark points and gender into real values. \n",
    "`seleced_features_index` a list which contains indexes of the features which are being used for classification in the `data` list."
   ]
  },
  {
   "cell_type": "code",
   "execution_count": 209,
   "metadata": {},
   "outputs": [],
   "source": [
    "embark_dict={'C':0,'Q':1,'S':2}\n",
    "gender_dict={'male':0,'female':1}\n",
    "selected_features_index=[2,4,5,6,7,9,11]"
   ]
  },
  {
   "cell_type": "markdown",
   "metadata": {},
   "source": [
    "# Training Data prep:\n",
    "`X_train` contains the training observations and `y_train` contains the corresponding label values."
   ]
  },
  {
   "cell_type": "code",
   "execution_count": 210,
   "metadata": {},
   "outputs": [],
   "source": [
    "X_train=data[:,selected_features_index]\n",
    "\n",
    "for i in range(X_train.shape[0]):\n",
    "    gender=X_train[i][1]\n",
    "    embark=X_train[i][6]\n",
    "    \n",
    "    X_train[i][1]=gender_dict[gender]\n",
    "    X_train[i][6]=embark_dict[embark]\n",
    "    \n",
    "X_train=X_train.astype(np.float32)\n",
    "y_train=data[:,1]\n",
    "nan_indexes=np.where(np.isnan(X_train)==True)\n",
    "for i in range(len(nan_indexes[0])):\n",
    "    X_train[nan_indexes[0][i],nan_indexes[1][i]]=-1\n",
    "y_train=y_train.astype(np.float32)"
   ]
  },
  {
   "cell_type": "code",
   "execution_count": 214,
   "metadata": {},
   "outputs": [],
   "source": [
    "assert(X_train.shape[0]==y_train.shape[0])"
   ]
  },
  {
   "cell_type": "markdown",
   "metadata": {},
   "source": [
    "# Classifier:\n",
    "    Decision tree classifier has been used with following specs:\n",
    "    criterion=entropy\n",
    "    min_samples_split=4\n",
    "    max_depth=3\n",
    "    These are some of the hyperparameters for the decision trees.\n",
    "    \n",
    "    Train the classifier using fit() function"
   ]
  },
  {
   "cell_type": "code",
   "execution_count": 215,
   "metadata": {},
   "outputs": [
    {
     "data": {
      "text/plain": [
       "DecisionTreeClassifier(class_weight=None, criterion='entropy', max_depth=3,\n",
       "            max_features=None, max_leaf_nodes=None,\n",
       "            min_impurity_decrease=0.0, min_impurity_split=None,\n",
       "            min_samples_leaf=1, min_samples_split=4,\n",
       "            min_weight_fraction_leaf=0.0, presort=False, random_state=None,\n",
       "            splitter='best')"
      ]
     },
     "execution_count": 215,
     "metadata": {},
     "output_type": "execute_result"
    }
   ],
   "source": [
    "clf=tree.DecisionTreeClassifier(criterion='entropy',min_samples_split=4,max_depth=3)\n",
    "clf.fit(X_train,y_train)"
   ]
  },
  {
   "cell_type": "markdown",
   "metadata": {},
   "source": [
    "# Test Classifier:\n",
    "`selected_features_index_test` is differnt from `seleced_features_index` because the order of features in the csv files are different."
   ]
  },
  {
   "cell_type": "code",
   "execution_count": 216,
   "metadata": {},
   "outputs": [
    {
     "name": "stdout",
     "output_type": "stream",
     "text": [
      "(418, 7)\n"
     ]
    }
   ],
   "source": [
    "selected_features_index_test=[1,3,4,5,6,8,10]\n",
    "test_data=pd.read_csv('./data/test.csv',header=0).as_matrix()\n",
    "X_test=test_data[:,selected_features_index_test]\n",
    "\n",
    "for i in range(X_test.shape[0]):\n",
    "    gender=X_test[i][1]\n",
    "    embark=X_test[i][6]\n",
    "    #print(gender)\n",
    "    X_test[i][1]=gender_dict[gender]\n",
    "    X_test[i][6]=embark_dict[embark]\n",
    "    \n",
    "X_test=X_test.astype(np.float32)\n",
    "y_test=data[:,1]\n",
    "nan_indexes=np.where(np.isnan(X_test)==True)\n",
    "for i in range(len(nan_indexes[0])):\n",
    "    X_test[nan_indexes[0][i],nan_indexes[1][i]]=-1\n",
    "X_test=X_test.astype(np.float32)\n",
    "print(X_test.shape)"
   ]
  },
  {
   "cell_type": "markdown",
   "metadata": {},
   "source": [
    "# Make Predictions:"
   ]
  },
  {
   "cell_type": "code",
   "execution_count": 218,
   "metadata": {},
   "outputs": [],
   "source": [
    "predictions=clf.predict(X_test)"
   ]
  },
  {
   "cell_type": "code",
   "execution_count": 219,
   "metadata": {},
   "outputs": [],
   "source": [
    "actual_results=pd.read_csv('./data/gender_submission.csv',header=0).as_matrix()"
   ]
  },
  {
   "cell_type": "code",
   "execution_count": 220,
   "metadata": {},
   "outputs": [],
   "source": [
    "assert(actual_results.shape[0]==predictions.shape[0])"
   ]
  },
  {
   "cell_type": "markdown",
   "metadata": {},
   "source": [
    "# calculate accuracy"
   ]
  },
  {
   "cell_type": "code",
   "execution_count": 227,
   "metadata": {},
   "outputs": [
    {
     "name": "stdout",
     "output_type": "stream",
     "text": [
      "accuracy=98.56%\n"
     ]
    }
   ],
   "source": [
    "\n",
    "count=0\n",
    "for i in range(actual_results.shape[0]):\n",
    "    if(actual_results[i][1]==int(predictions[i])):\n",
    "        count+=1\n",
    "print('accuracy={0:.2f}%'.format(count/predictions.shape[0]*100))\n"
   ]
  },
  {
   "cell_type": "code",
   "execution_count": null,
   "metadata": {},
   "outputs": [],
   "source": []
  }
 ],
 "metadata": {
  "kernelspec": {
   "display_name": "Python [conda env:carnd-term1]",
   "language": "python",
   "name": "conda-env-carnd-term1-py"
  },
  "language_info": {
   "codemirror_mode": {
    "name": "ipython",
    "version": 3
   },
   "file_extension": ".py",
   "mimetype": "text/x-python",
   "name": "python",
   "nbconvert_exporter": "python",
   "pygments_lexer": "ipython3",
   "version": "3.5.2"
  },
  "widgets": {
   "state": {},
   "version": "1.1.2"
  }
 },
 "nbformat": 4,
 "nbformat_minor": 2
}
